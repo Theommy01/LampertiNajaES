{
 "cells": [
  {
   "cell_type": "markdown",
   "metadata": {},
   "source": [
    "# ASCAD Dataset"
   ]
  },
  {
   "cell_type": "code",
   "execution_count": 33,
   "metadata": {},
   "outputs": [],
   "source": [
    "import numpy as np\n",
    "import h5py"
   ]
  },
  {
   "cell_type": "code",
   "execution_count": 34,
   "metadata": {},
   "outputs": [],
   "source": [
    "filename = \"/home/gchiari/Documents/Reinforcement-Learning-for-SCA-main/data/ASCAD_F_Value/experiment_value/ascad-fixed.h5\"\n",
    "#filename = \"/home/gchiari/Documents/ASCAD_data/ASCAD_databases/ASCAD.h5\"\n",
    "h5 = h5py.File(filename,'r')"
   ]
  },
  {
   "cell_type": "code",
   "execution_count": 40,
   "metadata": {},
   "outputs": [
    {
     "data": {
      "text/plain": [
       "<KeysViewHDF5 ['Attack_traces', 'Profiling_traces']>"
      ]
     },
     "execution_count": 40,
     "metadata": {},
     "output_type": "execute_result"
    }
   ],
   "source": [
    "h5.keys()"
   ]
  },
  {
   "cell_type": "code",
   "execution_count": 44,
   "metadata": {},
   "outputs": [
    {
     "data": {
      "text/plain": [
       "<KeysViewHDF5 ['labels', 'metadata', 'traces']>"
      ]
     },
     "execution_count": 44,
     "metadata": {},
     "output_type": "execute_result"
    }
   ],
   "source": [
    "h5['Attack_traces'].keys()"
   ]
  },
  {
   "cell_type": "code",
   "execution_count": 48,
   "metadata": {},
   "outputs": [
    {
     "data": {
      "text/plain": [
       "dtype([('plaintext', 'u1', (16,)), ('ciphertext', 'u1', (16,)), ('key', 'u1', (16,)), ('masks', 'u1', (16,)), ('desync', '<u4', (1,))])"
      ]
     },
     "execution_count": 48,
     "metadata": {},
     "output_type": "execute_result"
    }
   ],
   "source": [
    "#traces = h5['Profiling_traces']['traces'][()]\n",
    "#print(traces.shape)\n",
    "h5['Attack_traces']['metadata'].dtype"
   ]
  },
  {
   "cell_type": "code",
   "execution_count": 37,
   "metadata": {},
   "outputs": [
    {
     "name": "stdout",
     "output_type": "stream",
     "text": [
      "<HDF5 dataset \"metadata\": shape (10000,), type \"|V68\">\n",
      "[([ 31, 172, 170, 167, 237,  34, 191,  94, 192, 195,  85, 125, 149,  46, 115, 121], [162,  37, 213,  18, 216,  58,  16,  67, 197, 193, 162, 176,  28,  84, 140,  38], [ 77, 251, 224, 242, 114,  33, 254,  16, 167, 141,  74, 220, 142,  73,   4, 105], [161, 165, 119, 180, 191, 232,  52,  24, 197,   7,  58,  87, 180,  44,  10, 121], [0])\n",
      " ([145, 254, 116, 244, 139,  35,  15, 167, 204,  61, 154, 225,  58,  66, 234, 241], [ 49,  97, 182, 105, 120,  52,  71, 180, 175,  43,  58,  91,  27, 237, 110,  98], [ 77, 251, 224, 242, 114,  33, 254,  16, 167, 141,  74, 220, 142,  73,   4, 105], [206,  58, 131,  40,  29, 103,  17, 227,  65, 204, 190, 227, 158, 100, 125, 187], [0])\n",
      " ([255,  73, 174, 223, 213,  31,  55, 115,  86,  66,  64, 168,  15, 141, 186,  70], [196, 159, 166, 229, 125,  52,  22,  95,  99, 199, 124, 114, 147,  89,  61, 244], [ 77, 251, 224, 242, 114,  33, 254,  16, 167, 141,  74, 220, 142,  73,   4, 105], [153, 214, 245, 211, 141, 241, 196,  77,   1, 208, 119, 208,  36, 205, 118, 171], [0])\n",
      " ...\n",
      " ([ 91, 194,  92,  83, 123,  74, 163, 184, 109, 160, 218,  79, 181, 218,  52, 178], [ 49, 255, 116, 142, 137, 238,   9, 161,  20,  31, 187,  63,  60,  63, 203, 194], [ 77, 251, 224, 242, 114,  33, 254,  16, 167, 141,  74, 220, 142,  73,   4, 105], [250, 169, 123,  40,  90, 109, 145,   2, 241, 110, 236, 230, 221, 155,  86,   8], [0])\n",
      " ([ 52, 181, 238, 187,   1, 233, 241, 166, 159, 172, 144,   6,  46,  87,  75, 241], [ 88,  98, 200, 249, 211, 238, 145, 234,  83,   1,  17, 181, 218, 120, 121, 173], [ 77, 251, 224, 242, 114,  33, 254,  16, 167, 141,  74, 220, 142,  73,   4, 105], [242, 200,  68, 120, 121, 105, 169,  83, 149, 109, 197, 255,  96,  19, 189, 246], [0])\n",
      " ([198,  35,  99,  39,  93, 210,  27, 112, 207, 229, 156, 184, 170,   8, 103,  86], [208, 175,   0,  65,  50, 109, 203, 141, 237, 200,  30, 143, 100, 136,  79, 203], [ 77, 251, 224, 242, 114,  33, 254,  16, 167, 141,  74, 220, 142,  73,   4, 105], [ 92,  26,  84,  65, 143, 174,  89,  74, 170,   0, 138, 201,  42,   7,  55, 125], [0])]\n",
      "[('plaintext', 'u1', (16,)), ('ciphertext', 'u1', (16,)), ('key', 'u1', (16,)), ('masks', 'u1', (16,)), ('desync', '<u4', (1,))]\n"
     ]
    }
   ],
   "source": [
    "arr = h5['Attack_traces']['metadata'][()]\n",
    "print(h5['Attack_traces']['metadata'])\n",
    "print(arr)\n",
    "print(arr.dtype)"
   ]
  },
  {
   "cell_type": "code",
   "execution_count": null,
   "metadata": {},
   "outputs": [],
   "source": [
    "#print(arr[0]['key'])\n",
    "#print(arr[1]['key'])\n",
    "#print(arr[2]['key'])\n",
    "#print(arr[-1]['key'])\n",
    "#print(arr.dtype)"
   ]
  },
  {
   "cell_type": "code",
   "execution_count": 38,
   "metadata": {},
   "outputs": [
    {
     "name": "stdout",
     "output_type": "stream",
     "text": [
      "[ 77 251 224 242 114  33 254  16 167 141  74 220 142  73   4 105]\n"
     ]
    }
   ],
   "source": [
    "#keys = []\n",
    "#for id in range(len(arr)):\n",
    "#    keys.append(arr[id]['key'])\n",
    "key = arr[0]['key']\n",
    "print(key)\n",
    "np.save(\"/home/gchiari/Documents/Reinforcement-Learning-for-SCA-main/data/ASCAD_F_Value/experiment_value/key.npy\", key)"
   ]
  },
  {
   "cell_type": "code",
   "execution_count": 42,
   "metadata": {},
   "outputs": [
    {
     "ename": "TypeError",
     "evalue": "vectorized_unmask_sbox() missing 6 required positional arguments: 'trace_i', 'key_byte', 'plaintext', 'byte_i', 'mask', and 'offset'",
     "output_type": "error",
     "traceback": [
      "\u001b[0;31m---------------------------------------------------------------------------\u001b[0m",
      "\u001b[0;31mTypeError\u001b[0m                                 Traceback (most recent call last)",
      "\u001b[1;32m/home/gchiari/Documents/Reinforcement-Learning-for-SCA-main/test.ipynb Cell 9\u001b[0m line \u001b[0;36m7\n\u001b[1;32m      <a href='vscode-notebook-cell:/home/gchiari/Documents/Reinforcement-Learning-for-SCA-main/test.ipynb#X11sZmlsZQ%3D%3D?line=3'>4</a>\u001b[0m \u001b[39mfor\u001b[39;00m p \u001b[39min\u001b[39;00m \u001b[39mrange\u001b[39m(\u001b[39mlen\u001b[39m(arr)):\n\u001b[1;32m      <a href='vscode-notebook-cell:/home/gchiari/Documents/Reinforcement-Learning-for-SCA-main/test.ipynb#X11sZmlsZQ%3D%3D?line=4'>5</a>\u001b[0m     plaintexts\u001b[39m.\u001b[39mappend(arr[p][\u001b[39m'\u001b[39m\u001b[39mplaintext\u001b[39m\u001b[39m'\u001b[39m])\n\u001b[0;32m----> <a href='vscode-notebook-cell:/home/gchiari/Documents/Reinforcement-Learning-for-SCA-main/test.ipynb#X11sZmlsZQ%3D%3D?line=6'>7</a>\u001b[0m generate_precomputed_values_file(plaintext\u001b[39m=\u001b[39mnp\u001b[39m.\u001b[39marray(plaintexts), byte\u001b[39m=\u001b[39m\u001b[39m2\u001b[39m, mapping\u001b[39m=\u001b[39mvectorized_unmask_sbox(), save_folder\u001b[39m=\u001b[39m\u001b[39m\"\u001b[39m\u001b[39m/home/gchiari/Documents/Reinforcement-Learning-for-SCA-main/data/ASCAD_F_Value/experiment_value\u001b[39m\u001b[39m\"\u001b[39m)\n",
      "\u001b[0;31mTypeError\u001b[0m: vectorized_unmask_sbox() missing 6 required positional arguments: 'trace_i', 'key_byte', 'plaintext', 'byte_i', 'mask', and 'offset'"
     ]
    }
   ],
   "source": [
    "from metaqnn.attack.utils import generate_precomputed_values_file\n",
    "\n",
    "plaintexts = []\n",
    "for p in range(len(arr)):\n",
    "    plaintexts.append(arr[p]['plaintext'])\n",
    "\n",
    "generate_precomputed_values_file(plaintext=np.array(plaintexts), byte=2, save_folder=\"/home/gchiari/Documents/Reinforcement-Learning-for-SCA-main/data/ASCAD_F_Value/experiment_value\")"
   ]
  },
  {
   "cell_type": "code",
   "execution_count": 32,
   "metadata": {},
   "outputs": [],
   "source": [
    "h5.close()"
   ]
  },
  {
   "cell_type": "code",
   "execution_count": 110,
   "metadata": {},
   "outputs": [
    {
     "name": "stdout",
     "output_type": "stream",
     "text": [
      "-1.59544194\n"
     ]
    }
   ],
   "source": [
    "key = np.array([77, 251, 224, 242, 114,  33, 254,  16, 167, 141,  74, 220, 142,  73,   4, 105])\n",
    "rank_array = np.array([-1.59544194, -1.27893078, -2.1771462,  -1.27893078, -1.52196217, -1.27893078,\n",
    " -2.1771462,  -1.27893078, -1.27893078, -1.27893078, -1.27893078, -1.59544194,\n",
    " -1.27893078, -1.59544194, -1.27893078, -1.52196217, -1.52196217, -1.27893078,\n",
    " -1.59544194, -1.59544194, -1.52196217, -1.52196217, -1.27893078, -1.59544194,\n",
    " -1.59544194, -2.1771462 , -2.24950409, -2.24950409, -1.27893078, -1.52196217,\n",
    " -1.52196217, -1.59544194, -3.39063549, -2.24950409, -1.27893078, -1.52196217,\n",
    " -1.52196217, -1.27893078, -1.27893078, -1.52196217, -1.59544194, -1.27893078,\n",
    " -1.52196217, -1.27893078, -2.24950409, -1.59544194, -1.52196217, -1.27893078,\n",
    " -1.59544194, -2.1771462 , -1.59544194, -1.59544194, -1.27893078, -1.27893078,\n",
    " -1.27893078, -2.24950409, -1.59544194, -2.24950409, -1.52196217, -3.39063549,\n",
    " -1.59544194, -1.59544194, -1.59544194, -1.59544194, -1.52196217, -1.59544194,\n",
    " -1.52196217, -1.59544194, -1.52196217, -2.1771462 , -1.52196217, -1.59544194,\n",
    " -1.27893078, -2.24950409, -1.52196217, -2.1771462 , -1.52196217, -1.59544194,\n",
    " -2.24950409, -1.52196217, -2.1771462 , -1.59544194, -1.52196217, -2.1771462,\n",
    " -2.24950409, -1.27893078, -2.1771462 , -1.59544194, -2.24950409, -2.24950409,\n",
    " -1.59544194, -2.24950409, -1.52196217, -1.52196217, -2.24950409, -2.24950409,\n",
    " -1.52196217, -1.27893078, -1.27893078, -1.59544194, -1.59544194, -1.27893078,\n",
    " -1.52196217, -1.59544194, -1.27893078, -2.24950409, -2.24950409, -1.59544194,\n",
    " -2.24950409, -1.27893078, -1.59544194, -1.59544194, -3.19586277, -1.52196217,\n",
    " -1.52196217, -1.27893078, -1.52196217, -1.52196217, -1.27893078, -1.27893078,\n",
    " -1.27893078, -1.27893078, -1.52196217, -1.27893078, -1.52196217, -1.52196217,\n",
    " -1.59544194, -2.1771462 , -2.24950409, -1.52196217, -1.52196217, -1.59544194,\n",
    " -1.52196217, -1.52196217, -1.52196217, -1.59544194, -2.24950409, -1.27893078,\n",
    " -1.52196217, -1.27893078, -1.59544194, -1.59544194, -1.59544194, -2.24950409,\n",
    " -2.1771462 , -1.59544194, -1.59544194, -1.59544194, -1.27893078, -2.1771462,\n",
    " -1.52196217, -1.27893078, -1.52196217, -1.27893078, -2.1771462 , -3.19586277,\n",
    " -2.1771462 , -5.74402046, -1.27893078, -1.27893078, -1.59544194, -2.1771462,\n",
    " -1.27893078, -2.24950409, -3.39063549, -3.19586277, -2.1771462  ,-1.59544194,\n",
    " -1.59544194, -1.27893078, -1.27893078, -1.59544194, -3.39063549, -1.27893078,\n",
    " -3.39063549, -1.59544194, -1.27893078, -2.1771462 , -5.53993702, -3.19586277,\n",
    " -2.24950409, -1.52196217, -1.52196217, -1.52196217, -2.1771462 , -1.59544194,\n",
    " -1.52196217, -1.59544194, -1.52196217, -3.19586277, -1.27893078, -1.59544194,\n",
    " -1.52196217, -1.52196217, -2.1771462 , -3.39063549, -1.27893078, -1.52196217,\n",
    " -3.19586277, -2.24950409, -1.27893078, -2.1771462 , -1.52196217, -1.52196217,\n",
    " -2.1771462 , -2.1771462,  -1.52196217, -1.27893078, -2.24950409, -1.27893078,\n",
    " -1.59544194, -1.27893078, -2.1771462 , -1.59544194, -1.27893078, -1.52196217,\n",
    " -1.27893078, -1.27893078, -1.27893078, -2.1771462 , -2.1771462 , -1.27893078,\n",
    " -2.24950409, -1.27893078, -1.59544194, -1.59544194, -1.27893078, -1.27893078,\n",
    " -1.52196217, -1.52196217, -1.27893078, -1.59544194, -1.27893078, -3.39063549,\n",
    " -2.1771462,  -1.27893078, -1.59544194, -1.27893078, -3.39063549, -2.1771462,\n",
    " -1.52196217, -1.27893078, -1.27893078, -2.1771462 , -1.27893078, -3.19586277,\n",
    " -2.24950409, -1.59544194, -1.27893078, -2.24950409, -1.27893078, -2.24950409,\n",
    " -1.27893078, -1.59544194, -1.52196217, -3.19586277])\n",
    "\n",
    "#key_val = rank_array[key]\n",
    "key_val = rank_array[0]\n",
    "print(key_val)"
   ]
  },
  {
   "cell_type": "code",
   "execution_count": 103,
   "metadata": {},
   "outputs": [
    {
     "name": "stdout",
     "output_type": "stream",
     "text": [
      "[-1.27893078 -1.27893078 -1.27893078 -1.27893078 -1.27893078 -1.27893078\n",
      " -1.27893078 -1.27893078 -1.27893078 -1.27893078 -1.27893078 -1.27893078\n",
      " -1.27893078 -1.27893078 -1.27893078 -1.27893078 -1.27893078 -1.27893078\n",
      " -1.27893078 -1.27893078 -1.27893078 -1.27893078 -1.27893078 -1.27893078\n",
      " -1.27893078 -1.27893078 -1.27893078 -1.27893078 -1.27893078 -1.27893078\n",
      " -1.27893078 -1.27893078 -1.27893078 -1.27893078 -1.27893078 -1.27893078\n",
      " -1.27893078 -1.27893078 -1.27893078 -1.27893078 -1.27893078 -1.27893078\n",
      " -1.27893078 -1.27893078 -1.27893078 -1.27893078 -1.27893078 -1.27893078\n",
      " -1.27893078 -1.27893078 -1.27893078 -1.27893078 -1.27893078 -1.27893078\n",
      " -1.27893078 -1.27893078 -1.27893078 -1.27893078 -1.27893078 -1.27893078\n",
      " -1.27893078 -1.27893078 -1.27893078 -1.27893078 -1.27893078 -1.27893078\n",
      " -1.27893078 -1.27893078 -1.27893078 -1.27893078 -1.52196217 -1.52196217\n",
      " -1.52196217 -1.52196217 -1.52196217 -1.52196217 -1.52196217 -1.52196217\n",
      " -1.52196217 -1.52196217 -1.52196217 -1.52196217 -1.52196217 -1.52196217\n",
      " -1.52196217 -1.52196217 -1.52196217 -1.52196217 -1.52196217 -1.52196217\n",
      " -1.52196217 -1.52196217 -1.52196217 -1.52196217 -1.52196217 -1.52196217\n",
      " -1.52196217 -1.52196217 -1.52196217 -1.52196217 -1.52196217 -1.52196217\n",
      " -1.52196217 -1.52196217 -1.52196217 -1.52196217 -1.52196217 -1.52196217\n",
      " -1.52196217 -1.52196217 -1.52196217 -1.52196217 -1.52196217 -1.52196217\n",
      " -1.52196217 -1.52196217 -1.52196217 -1.52196217 -1.52196217 -1.52196217\n",
      " -1.52196217 -1.52196217 -1.52196217 -1.52196217 -1.52196217 -1.52196217\n",
      " -1.59544194 -1.59544194 -1.59544194 -1.59544194 -1.59544194 -1.59544194\n",
      " -1.59544194 -1.59544194 -1.59544194 -1.59544194 -1.59544194 -1.59544194\n",
      " -1.59544194 -1.59544194 -1.59544194 -1.59544194 -1.59544194 -1.59544194\n",
      " -1.59544194 -1.59544194 -1.59544194 -1.59544194 -1.59544194 -1.59544194\n",
      " -1.59544194 -1.59544194 -1.59544194 -1.59544194 -1.59544194 -1.59544194\n",
      " -1.59544194 -1.59544194 -1.59544194 -1.59544194 -1.59544194 -1.59544194\n",
      " -1.59544194 -1.59544194 -1.59544194 -1.59544194 -1.59544194 -1.59544194\n",
      " -1.59544194 -1.59544194 -1.59544194 -1.59544194 -1.59544194 -1.59544194\n",
      " -1.59544194 -1.59544194 -1.59544194 -1.59544194 -1.59544194 -1.59544194\n",
      " -1.59544194 -1.59544194 -2.1771462  -2.1771462  -2.1771462  -2.1771462\n",
      " -2.1771462  -2.1771462  -2.1771462  -2.1771462  -2.1771462  -2.1771462\n",
      " -2.1771462  -2.1771462  -2.1771462  -2.1771462  -2.1771462  -2.1771462\n",
      " -2.1771462  -2.1771462  -2.1771462  -2.1771462  -2.1771462  -2.1771462\n",
      " -2.1771462  -2.1771462  -2.1771462  -2.1771462  -2.1771462  -2.1771462\n",
      " -2.24950409 -2.24950409 -2.24950409 -2.24950409 -2.24950409 -2.24950409\n",
      " -2.24950409 -2.24950409 -2.24950409 -2.24950409 -2.24950409 -2.24950409\n",
      " -2.24950409 -2.24950409 -2.24950409 -2.24950409 -2.24950409 -2.24950409\n",
      " -2.24950409 -2.24950409 -2.24950409 -2.24950409 -2.24950409 -2.24950409\n",
      " -2.24950409 -2.24950409 -2.24950409 -2.24950409 -3.19586277 -3.19586277\n",
      " -3.19586277 -3.19586277 -3.19586277 -3.19586277 -3.19586277 -3.19586277\n",
      " -3.39063549 -3.39063549 -3.39063549 -3.39063549 -3.39063549 -3.39063549\n",
      " -3.39063549 -3.39063549 -5.53993702 -5.74402046]\n"
     ]
    }
   ],
   "source": [
    "sorted_rank_array = np.sort(rank_array)[::-1]\n",
    "print(sorted_rank_array)\n",
    "#print(len(sorted_rank_array))"
   ]
  },
  {
   "cell_type": "code",
   "execution_count": 86,
   "metadata": {},
   "outputs": [
    {
     "name": "stdout",
     "output_type": "stream",
     "text": [
      "[[-1.59544194]\n",
      " [-2.24950409]\n",
      " [-1.59544194]\n",
      " [-1.27893078]\n",
      " [-1.52196217]\n",
      " [-2.24950409]\n",
      " [-1.52196217]\n",
      " [-1.52196217]\n",
      " [-1.59544194]\n",
      " [-1.59544194]\n",
      " [-1.52196217]\n",
      " [-2.1771462 ]\n",
      " [-1.59544194]\n",
      " [-2.24950409]\n",
      " [-1.52196217]\n",
      " [-2.24950409]]\n"
     ]
    }
   ],
   "source": [
    "new_key = key_val.reshape(len(key_val), 1)\n",
    "print(new_key)"
   ]
  },
  {
   "cell_type": "code",
   "execution_count": 112,
   "metadata": {},
   "outputs": [
    {
     "data": {
      "text/plain": [
       "126"
      ]
     },
     "execution_count": 112,
     "metadata": {},
     "output_type": "execute_result"
    }
   ],
   "source": [
    "np.where(sorted_rank_array == key_val)[0][0]"
   ]
  },
  {
   "cell_type": "markdown",
   "metadata": {},
   "source": [
    "# DFS"
   ]
  },
  {
   "cell_type": "code",
   "execution_count": 1,
   "metadata": {},
   "outputs": [],
   "source": [
    "import numpy as np\n",
    "import h5py"
   ]
  },
  {
   "cell_type": "code",
   "execution_count": 2,
   "metadata": {},
   "outputs": [],
   "source": [
    "root = '/work_extra/dgalli/dataset/TCHES/dataset_100/'\n",
    "test_meta = np.load(root+\"test_meta.npy\")\n",
    "test_targets = np.load(root+\"test_targets.npy\")\n",
    "test_windows = np.load(root+\"test_windows.npy\")\n",
    "\n",
    "train_meta = np.load(root+\"train_meta.npy\")\n",
    "train_targets = np.load(root+\"train_targets.npy\")\n",
    "train_windows = np.load(root+\"train_windows.npy\")\n",
    "\n",
    "valid_meta = np.load(root+\"valid_meta.npy\")\n",
    "valid_targets = np.load(root+\"valid_targets.npy\")\n",
    "valid_windows = np.load(root+\"valid_windows.npy\")"
   ]
  },
  {
   "cell_type": "code",
   "execution_count": 3,
   "metadata": {},
   "outputs": [
    {
     "name": "stdout",
     "output_type": "stream",
     "text": [
      "(12800, 2)\n",
      "(12800, 1)\n",
      "(12800, 2570)\n",
      "\n",
      "\n",
      "(102400, 2)\n",
      "(102400, 1)\n",
      "(102400, 2570)\n",
      "\n",
      "\n",
      "(12800, 2)\n",
      "(12800, 1)\n",
      "(12800, 2570)\n"
     ]
    }
   ],
   "source": [
    "print(test_meta.shape)\n",
    "print(test_targets.shape)\n",
    "print(test_windows.shape)\n",
    "print('\\n')\n",
    "print(train_meta.shape)\n",
    "print(train_targets.shape)\n",
    "print(train_windows.shape)\n",
    "print('\\n')\n",
    "print(valid_meta.shape)\n",
    "print(valid_targets.shape)\n",
    "print(valid_windows.shape)"
   ]
  },
  {
   "cell_type": "code",
   "execution_count": 4,
   "metadata": {},
   "outputs": [
    {
     "name": "stdout",
     "output_type": "stream",
     "text": [
      "[225  51]\n",
      "[159  44]\n"
     ]
    }
   ],
   "source": [
    "print(test_meta[0])  #(primo byte plaintext, primo byte key) -- key cambia ogni 50\n",
    "print(test_meta[50])"
   ]
  },
  {
   "cell_type": "code",
   "execution_count": 7,
   "metadata": {},
   "outputs": [],
   "source": [
    "profiling_traces = np.concatenate((train_windows, valid_windows))\n",
    "profiling_targets = np.concatenate((train_targets, valid_targets))\n",
    "\n",
    "with h5py.File('/home/gchiari/Documents/Reinforcement-Learning-for-SCA-main/data/DFS/experiment_value/dfs.h5', 'w') as hf:\n",
    "    #h5_test_meta = hf.create_dataset('/Attack_traces/metadata', data=test_meta, shape=(12800, 2), compression='gzip', chunks=True)\n",
    "    h5_test_targets = hf.create_dataset('/Attack_traces/labels', data=test_targets, shape=(12800, 1), compression='gzip', chunks=True)\n",
    "    h5_test_windows = hf.create_dataset('/Attack_traces/traces', data=test_windows, shape=(12800, 2570), compression='gzip', chunks=True)\n",
    "\n",
    "    h5_profiling_targets = hf.create_dataset('/Profiling_traces/labels', data=profiling_targets, shape=profiling_targets.shape, compression='gzip', chunks=True)\n",
    "    h5_profiling_traces = hf.create_dataset('/Profiling_traces/traces', data=profiling_traces, shape=profiling_traces.shape, compression='gzip', chunks=True)\n"
   ]
  },
  {
   "cell_type": "code",
   "execution_count": 10,
   "metadata": {},
   "outputs": [
    {
     "data": {
      "text/plain": [
       "array([46])"
      ]
     },
     "execution_count": 10,
     "metadata": {},
     "output_type": "execute_result"
    }
   ],
   "source": [
    "#h5 = h5py.File(\"/home/gchiari/Documents/Reinforcement-Learning-for-SCA-main/test.h5\", 'r')\n",
    "#h5[\"Attack_traces/metadata\"]\n",
    "#print(h5[\"/Profiling_traces/traces\"])\n",
    "test_targets[5]"
   ]
  },
  {
   "cell_type": "code",
   "execution_count": 5,
   "metadata": {},
   "outputs": [],
   "source": [
    "key = [] #np.load(\"/home/gchiari/Documents/Reinforcement-Learning-for-SCA-main/data/ASCAD_F_Value/experiment_value/key.npy\")\n",
    "for i in range(test_meta.shape[0]):\n",
    "    key.append(test_meta[i][1])\n",
    "    \n",
    "data_root = \"data/DFS/experiment_value/\"\n",
    "np.save(data_root+\"dfs_key.npy\", key)"
   ]
  },
  {
   "cell_type": "markdown",
   "metadata": {},
   "source": [
    "# FreeRTOS 1000"
   ]
  },
  {
   "cell_type": "code",
   "execution_count": 8,
   "metadata": {},
   "outputs": [],
   "source": [
    "import numpy as np\n",
    "from matplotlib import pyplot as plt"
   ]
  },
  {
   "cell_type": "code",
   "execution_count": 2,
   "metadata": {},
   "outputs": [],
   "source": [
    "test_meta = np.load(\"/work_extra/dgalli/dataset/FreeRTOS/8keys/dataset_1000/test_meta.npy\")\n",
    "test_targets = np.load(\"/work_extra/dgalli/dataset/FreeRTOS/8keys/dataset_1000/test_targets.npy\")\n",
    "test_windows = np.load(\"/work_extra/dgalli/dataset/FreeRTOS/8keys/dataset_1000/test_windows.npy\")\n",
    "\n",
    "#train_meta = np.load(\"/work_extra/dgalli/dataset/FreeRTOS/8keys/dataset_1000/train_meta.npy\")\n",
    "#train_targets = np.load(\"/work_extra/dgalli/dataset/FreeRTOS/8keys/dataset_1000/train_targets.npy\")\n",
    "#train_windows = np.load(\"/work_extra/dgalli/dataset/FreeRTOS/8keys/dataset_1000/train_windows.npy\")\n",
    "\n",
    "valid_meta = np.load(\"/work_extra/dgalli/dataset/FreeRTOS/8keys/dataset_1000/valid_meta.npy\")\n",
    "valid_targets = np.load(\"/work_extra/dgalli/dataset/FreeRTOS/8keys/dataset_1000/valid_targets.npy\")\n",
    "valid_windows = np.load(\"/work_extra/dgalli/dataset/FreeRTOS/8keys/dataset_1000/valid_windows.npy\")"
   ]
  },
  {
   "cell_type": "code",
   "execution_count": 3,
   "metadata": {},
   "outputs": [
    {
     "name": "stdout",
     "output_type": "stream",
     "text": [
      "(26112, 2)\n",
      "(26112, 1)\n",
      "(26112, 474)\n",
      "\n",
      "\n",
      "(209920, 2)\n",
      "(209920, 1)\n",
      "(209920, 474)\n",
      "\n",
      "\n",
      "(26112, 2)\n",
      "(26112, 1)\n",
      "(26112, 474)\n"
     ]
    }
   ],
   "source": [
    "print(test_meta.shape)\n",
    "print(test_targets.shape)\n",
    "print(test_windows.shape)\n",
    "print('\\n')\n",
    "print(train_meta.shape)\n",
    "print(train_targets.shape)\n",
    "print(train_windows.shape)\n",
    "print('\\n')\n",
    "print(valid_meta.shape)\n",
    "print(valid_targets.shape)\n",
    "print(valid_windows.shape)"
   ]
  },
  {
   "cell_type": "code",
   "execution_count": 4,
   "metadata": {},
   "outputs": [
    {
     "name": "stdout",
     "output_type": "stream",
     "text": [
      "[ 87 167]\n",
      "[74  4]\n"
     ]
    }
   ],
   "source": [
    "print(test_meta[0])  #(primo byte plaintext, primo byte key) -- key cambia ogni 102\n",
    "print(test_meta[102])"
   ]
  },
  {
   "cell_type": "code",
   "execution_count": null,
   "metadata": {},
   "outputs": [],
   "source": [
    "'''profiling_traces = np.concatenate((train_windows, valid_windows))\n",
    "profiling_targets = np.concatenate((train_targets, valid_targets))\n",
    "\n",
    "with h5py.File('/home/gchiari/Documents/Reinforcement-Learning-for-SCA-main/data/FreeRTOS1000/experiment_value/freertos1000.h5', 'w') as hf:\n",
    "    #h5_test_meta = hf.create_dataset('/Attack_traces/metadata', data=test_meta, shape=(12800, 2), compression='gzip', chunks=True)\n",
    "    h5_test_targets = hf.create_dataset('/Attack_traces/labels', data=test_targets, shape=(26112, 1), compression='gzip', chunks=True)\n",
    "    h5_test_windows = hf.create_dataset('/Attack_traces/traces', data=test_windows, shape=(26112, 474), compression='gzip', chunks=True)\n",
    "\n",
    "    h5_profiling_targets = hf.create_dataset('/Profiling_traces/labels', data=profiling_targets, shape=profiling_targets.shape, compression='gzip', chunks=True)\n",
    "    h5_profiling_traces = hf.create_dataset('/Profiling_traces/traces', data=profiling_traces, shape=profiling_traces.shape, compression='gzip', chunks=True)'''\n",
    "\n",
    "profiling_traces = np.concatenate((train_windows, valid_windows))\n",
    "profiling_targets = np.concatenate((train_targets, valid_targets))\n",
    "\n",
    "np.save('/home/gchiari/Documents/Reinforcement-Learning-for-SCA-main/data/FreeRTOS1000/experiment_value/profiling_traces.npy', profiling_traces)\n",
    "np.save('/home/gchiari/Documents/Reinforcement-Learning-for-SCA-main/data/FreeRTOS1000/experiment_value/profiling_targets.npy', profiling_targets)\n",
    "\n",
    "np.save('/home/gchiari/Documents/Reinforcement-Learning-for-SCA-main/data/FreeRTOS1000/experiment_value/attack_traces.npy', test_windows)\n",
    "np.save('/home/gchiari/Documents/Reinforcement-Learning-for-SCA-main/data/FreeRTOS1000/experiment_value/attack_targets.npy', test_targets)\n"
   ]
  },
  {
   "cell_type": "code",
   "execution_count": 8,
   "metadata": {},
   "outputs": [],
   "source": [
    "key = []\n",
    "for i in range(test_meta.shape[0]):\n",
    "    key.append(test_meta[i][1])\n",
    "\n",
    "np.save(\"data/FreeRTOS1000/experiment_value/freertos1000_key.npy\", key)"
   ]
  },
  {
   "cell_type": "code",
   "execution_count": 9,
   "metadata": {},
   "outputs": [
    {
     "data": {
      "text/plain": [
       "array([[ 91, 177, 252, ..., 172, 211, 194],\n",
       "       [126,  61, 196, ..., 245, 146, 157],\n",
       "       [182, 188,  33, ...,  95,  23,  68],\n",
       "       ...,\n",
       "       [160,  90, 110, ..., 244,  86, 108],\n",
       "       [ 61, 126, 167, ...,  56, 157, 146],\n",
       "       [206,  85,  40, ..., 130, 201, 125]])"
      ]
     },
     "execution_count": 9,
     "metadata": {},
     "output_type": "execute_result"
    }
   ],
   "source": [
    "from metaqnn.attack.utils import generate_precomputed_values_file\n",
    "\n",
    "plaintexts = []\n",
    "for i in range(test_meta.shape[0]):\n",
    "    plaintexts.append(test_meta[i][0])\n",
    "\n",
    "generate_precomputed_values_file(plaintext=np.array(plaintexts), byte=0, save_folder=\"data/FreeRTOS1000/experiment_value/\")"
   ]
  },
  {
   "cell_type": "markdown",
   "metadata": {},
   "source": [
    "# FreeRTOS 100"
   ]
  },
  {
   "cell_type": "code",
   "execution_count": 1,
   "metadata": {},
   "outputs": [],
   "source": [
    "import numpy as np\n",
    "import h5py"
   ]
  },
  {
   "cell_type": "code",
   "execution_count": 11,
   "metadata": {},
   "outputs": [],
   "source": [
    "test_meta = np.load(\"/work_extra/dgalli/dataset/FreeRTOS/8keys/dataset_100/test_meta.npy\",mmap_mode='r')\n",
    "test_targets = np.load(\"/work_extra/dgalli/dataset/FreeRTOS/8keys/dataset_100/test_targets.npy\",mmap_mode='r')\n",
    "test_windows = np.load(\"/work_extra/dgalli/dataset/FreeRTOS/8keys/dataset_100/test_windows.npy\",mmap_mode='r')\n",
    "\n",
    "train_meta = np.load(\"/work_extra/dgalli/dataset/FreeRTOS/8keys/dataset_100/train_meta.npy\",mmap_mode='r')\n",
    "train_targets = np.load(\"/work_extra/dgalli/dataset/FreeRTOS/8keys/dataset_100/train_targets.npy\",mmap_mode='r')\n",
    "train_windows = np.load(\"/work_extra/dgalli/dataset/FreeRTOS/8keys/dataset_100/train_windows.npy\",mmap_mode='r')\n",
    "\n",
    "valid_meta = np.load(\"/work_extra/dgalli/dataset/FreeRTOS/8keys/dataset_100/valid_meta.npy\",mmap_mode='r')\n",
    "valid_targets = np.load(\"/work_extra/dgalli/dataset/FreeRTOS/8keys/dataset_100/valid_targets.npy\",mmap_mode='r')\n",
    "valid_windows = np.load(\"/work_extra/dgalli/dataset/FreeRTOS/8keys/dataset_100/valid_windows.npy\",mmap_mode='r')"
   ]
  },
  {
   "cell_type": "code",
   "execution_count": 3,
   "metadata": {},
   "outputs": [
    {
     "name": "stdout",
     "output_type": "stream",
     "text": [
      "(26112, 2)\n",
      "(26112, 1)\n",
      "(26112, 5192)\n",
      "\n",
      "\n",
      "(209920, 2)\n",
      "(209920, 1)\n",
      "(209920, 5192)\n",
      "\n",
      "\n",
      "(26112, 2)\n",
      "(26112, 1)\n",
      "(26112, 5192)\n"
     ]
    }
   ],
   "source": [
    "print(test_meta.shape)\n",
    "print(test_targets.shape)\n",
    "print(test_windows.shape)\n",
    "print('\\n')\n",
    "print(train_meta.shape)\n",
    "print(train_targets.shape)\n",
    "print(train_windows.shape)\n",
    "print('\\n')\n",
    "print(valid_meta.shape)\n",
    "print(valid_targets.shape)\n",
    "print(valid_windows.shape)\n",
    "\n",
    "#DIM_TRAIN = 104_960\n",
    "DIM_TEST = 26_112"
   ]
  },
  {
   "cell_type": "code",
   "execution_count": 4,
   "metadata": {},
   "outputs": [
    {
     "name": "stdout",
     "output_type": "stream",
     "text": [
      "[ 87 167]\n",
      "[74  4]\n",
      "float32\n"
     ]
    }
   ],
   "source": [
    "print(test_meta[0])  #(primo byte plaintext, primo byte key) -- key cambia ogni 102\n",
    "print(test_meta[102])\n",
    "print(train_windows.dtype)"
   ]
  },
  {
   "cell_type": "code",
   "execution_count": 3,
   "metadata": {},
   "outputs": [
    {
     "name": "stdout",
     "output_type": "stream",
     "text": [
      "RAM memory % used: 38.4\n"
     ]
    },
    {
     "ename": "TypeError",
     "evalue": "append() missing 1 required positional argument: 'values'",
     "output_type": "error",
     "traceback": [
      "\u001b[0;31m---------------------------------------------------------------------------\u001b[0m",
      "\u001b[0;31mTypeError\u001b[0m                                 Traceback (most recent call last)",
      "\u001b[1;32m/home/dgalli/Documents/Reinforcement-Learning-for-SCA/test.ipynb Cell 38\u001b[0m line \u001b[0;36m6\n\u001b[1;32m      <a href='vscode-notebook-cell:/home/dgalli/Documents/Reinforcement-Learning-for-SCA/test.ipynb#X52sZmlsZQ%3D%3D?line=2'>3</a>\u001b[0m \u001b[39mimport\u001b[39;00m \u001b[39mpsutil\u001b[39;00m\n\u001b[1;32m      <a href='vscode-notebook-cell:/home/dgalli/Documents/Reinforcement-Learning-for-SCA/test.ipynb#X52sZmlsZQ%3D%3D?line=4'>5</a>\u001b[0m \u001b[39mprint\u001b[39m(\u001b[39m'\u001b[39m\u001b[39mRAM memory \u001b[39m\u001b[39m% u\u001b[39;00m\u001b[39msed:\u001b[39m\u001b[39m'\u001b[39m, psutil\u001b[39m.\u001b[39mvirtual_memory()[\u001b[39m2\u001b[39m])\n\u001b[0;32m----> <a href='vscode-notebook-cell:/home/dgalli/Documents/Reinforcement-Learning-for-SCA/test.ipynb#X52sZmlsZQ%3D%3D?line=5'>6</a>\u001b[0m profiling_traces \u001b[39m=\u001b[39m np\u001b[39m.\u001b[39;49mappend((train_windows, valid_windows))\n\u001b[1;32m      <a href='vscode-notebook-cell:/home/dgalli/Documents/Reinforcement-Learning-for-SCA/test.ipynb#X52sZmlsZQ%3D%3D?line=6'>7</a>\u001b[0m profiling_targets \u001b[39m=\u001b[39m np\u001b[39m.\u001b[39mappend((train_targets, valid_targets))\n\u001b[1;32m      <a href='vscode-notebook-cell:/home/dgalli/Documents/Reinforcement-Learning-for-SCA/test.ipynb#X52sZmlsZQ%3D%3D?line=8'>9</a>\u001b[0m \u001b[39mprint\u001b[39m(\u001b[39m'\u001b[39m\u001b[39mRAM memory \u001b[39m\u001b[39m% u\u001b[39;00m\u001b[39msed:\u001b[39m\u001b[39m'\u001b[39m, psutil\u001b[39m.\u001b[39mvirtual_memory()[\u001b[39m2\u001b[39m])\n",
      "\u001b[0;31mTypeError\u001b[0m: append() missing 1 required positional argument: 'values'"
     ]
    }
   ],
   "source": [
    "import psutil\n",
    " \n",
    "print('RAM memory % used:', psutil.virtual_memory()[2])\n",
    "profiling_traces = np.concatenate((train_windows, valid_windows))\n",
    "profiling_targets = np.concatenate((train_targets, valid_targets))\n",
    "print('RAM memory % used:', psutil.virtual_memory()[2])\n",
    "#np.save('/home/gchiari/Documents/Reinforcement-Learning-for-SCA-main/data/FreeRTOS100/experiment_value/profiling_traces.npy', profiling_traces)\n",
    "#np.save('/home/gchiari/Documents/Reinforcement-Learning-for-SCA-main/data/FreeRTOS100/experiment_value/profiling_targets.npy', profiling_targets)\n",
    "#\n",
    "#np.save('/home/gchiari/Documents/Reinforcement-Learning-for-SCA-main/data/FreeRTOS100/experiment_value/attack_traces.npy', test_windows)\n",
    "#np.save('/home/gchiari/Documents/Reinforcement-Learning-for-SCA-main/data/FreeRTOS100/experiment_value/attack_targets.npy', test_targets)"
   ]
  },
  {
   "cell_type": "code",
   "execution_count": 66,
   "metadata": {},
   "outputs": [],
   "source": [
    "#profiling_traces = np.concatenate((train_windows, valid_windows))\n",
    "#profiling_targets = np.concatenate((train_targets, valid_targets))\n",
    "\n",
    "#with h5py.File('/home/gchiari/Documents/Reinforcement-Learning-for-SCA-main/data/FreeRTOS100/experiment_value/freertos100.h5', 'w') as hf:\n",
    "    #h5_test_meta = hf.create_dataset('/Attack_traces/metadata', data=test_meta, shape=(12800, 2), compression='gzip', chunks=True)\n",
    "#    h5_test_targets = hf.create_dataset('/Attack_traces/labels', data=test_targets, shape=(26112, 1), compression='gzip', chunks=True)\n",
    "#    h5_test_windows = hf.create_dataset('/Attack_traces/traces', data=test_windows, shape=(26112, 5192), compression='gzip', chunks=True)\n",
    "\n",
    "#    h5_profiling_targets = hf.create_dataset('/Profiling_traces/labels', data=profiling_targets, shape=profiling_targets.shape, compression='gzip', chunks=True)\n",
    "#    h5_profiling_traces = hf.create_dataset('/Profiling_traces/traces', data=profiling_traces, shape=profiling_traces.shape, compression='gzip', chunks=True)\n"
   ]
  },
  {
   "cell_type": "code",
   "execution_count": 5,
   "metadata": {},
   "outputs": [],
   "source": [
    "key = []\n",
    "#for i in range(test_meta.shape[0]):\n",
    "for i in range(DIM_TEST):\n",
    "    key.append(test_meta[i][1])\n",
    "\n",
    "np.save(\"data/FreeRTOS100/experiment_value/freertos100_key.npy\", key)"
   ]
  },
  {
   "cell_type": "code",
   "execution_count": 6,
   "metadata": {},
   "outputs": [
    {
     "data": {
      "text/plain": [
       "array([[ 91, 177, 252, ..., 172, 211, 194],\n",
       "       [126,  61, 196, ..., 245, 146, 157],\n",
       "       [182, 188,  33, ...,  95,  23,  68],\n",
       "       ...,\n",
       "       [160,  90, 110, ..., 244,  86, 108],\n",
       "       [ 61, 126, 167, ...,  56, 157, 146],\n",
       "       [206,  85,  40, ..., 130, 201, 125]])"
      ]
     },
     "execution_count": 6,
     "metadata": {},
     "output_type": "execute_result"
    }
   ],
   "source": [
    "from metaqnn.attack.utils import generate_precomputed_values_file\n",
    "\n",
    "plaintexts = []\n",
    "#for i in range(test_meta.shape[0]):\n",
    "for i in range(DIM_TEST):\n",
    "    plaintexts.append(test_meta[i][0])\n",
    "\n",
    "generate_precomputed_values_file(plaintext=np.array(plaintexts), byte=0, save_folder=\"data/FreeRTOS100/experiment_value/\")"
   ]
  },
  {
   "cell_type": "markdown",
   "metadata": {},
   "source": [
    "# Rabbit 1000"
   ]
  },
  {
   "cell_type": "code",
   "execution_count": 1,
   "metadata": {},
   "outputs": [],
   "source": [
    "import numpy as np"
   ]
  },
  {
   "cell_type": "code",
   "execution_count": 2,
   "metadata": {},
   "outputs": [],
   "source": [
    "root = \"/work_extra/dgalli/dataset/rabbit/dataset_1000/\"\n",
    "test_meta = np.load(root+\"test_meta.npy\", mmap_mode='r')\n",
    "test_targets = np.load(root+\"test_targets.npy\",mmap_mode='r')\n",
    "test_windows = np.load(root+\"test_windows.npy\",mmap_mode='r')\n",
    "\n",
    "train_meta = np.load(root+\"train_meta.npy\",mmap_mode='r')\n",
    "train_targets = np.load(root+\"train_targets.npy\",mmap_mode='r')\n",
    "train_windows = np.load(root+\"train_windows.npy\",mmap_mode='r')\n",
    "\n",
    "valid_meta = np.load(root+\"valid_meta.npy\",mmap_mode='r')\n",
    "valid_targets = np.load(root+\"valid_targets.npy\",mmap_mode='r')\n",
    "valid_windows = np.load(root+\"valid_windows.npy\",mmap_mode='r')"
   ]
  },
  {
   "cell_type": "code",
   "execution_count": 13,
   "metadata": {},
   "outputs": [
    {
     "name": "stdout",
     "output_type": "stream",
     "text": [
      "(25600, 2)\n",
      "(25600, 1)\n",
      "(25600, 80)\n",
      "\n",
      "\n",
      "(204800, 2)\n",
      "(204800, 1)\n",
      "(204800, 80)\n",
      "\n",
      "\n",
      "(25600, 2)\n",
      "(25600, 1)\n",
      "(25600, 80)\n"
     ]
    }
   ],
   "source": [
    "print(test_meta.shape)\n",
    "print(test_targets.shape)\n",
    "print(test_windows.shape)\n",
    "print('\\n')\n",
    "print(train_meta.shape)\n",
    "print(train_targets.shape)\n",
    "print(train_windows.shape)\n",
    "print('\\n')\n",
    "print(valid_meta.shape)\n",
    "print(valid_targets.shape)\n",
    "print(valid_windows.shape)\n",
    "\n",
    "DIM_TEST = 25600"
   ]
  },
  {
   "cell_type": "code",
   "execution_count": 7,
   "metadata": {},
   "outputs": [
    {
     "name": "stdout",
     "output_type": "stream",
     "text": [
      "[ 55 119]\n",
      "[158 146]\n",
      "[229 120]\n",
      "float32\n"
     ]
    }
   ],
   "source": [
    "print(test_meta[0])  #(primo byte plaintext, primo byte key) -- key cambia ogni 102\n",
    "print(test_meta[100])\n",
    "print(test_meta[200])\n",
    "print(train_windows.dtype)"
   ]
  },
  {
   "cell_type": "code",
   "execution_count": 3,
   "metadata": {},
   "outputs": [
    {
     "name": "stdout",
     "output_type": "stream",
     "text": [
      "RAM memory % used: 38.4\n",
      "RAM memory % used: 38.5\n"
     ]
    }
   ],
   "source": [
    "# Importing the library\n",
    "import psutil\n",
    " \n",
    "# Getting % usage of virtual_memory ( 3rd field)\n",
    "print('RAM memory % used:', psutil.virtual_memory()[2])\n",
    "\n",
    "profiling_traces = np.concatenate((train_windows, valid_windows))\n",
    "profiling_targets = np.concatenate((train_targets, valid_targets))\n",
    "\n",
    "print('RAM memory % used:', psutil.virtual_memory()[2])\n",
    "\n",
    "#np.save('/home/gchiari/Documents/Reinforcement-Learning-for-SCA-main/data/FreeRTOS100/experiment_value/profiling_traces.npy', profiling_traces)\n",
    "#np.save('/home/gchiari/Documents/Reinforcement-Learning-for-SCA-main/data/FreeRTOS100/experiment_value/profiling_targets.npy', profiling_targets)\n",
    "#\n",
    "#np.save('/home/gchiari/Documents/Reinforcement-Learning-for-SCA-main/data/FreeRTOS100/experiment_value/attack_traces.npy', test_windows)\n",
    "#np.save('/home/gchiari/Documents/Reinforcement-Learning-for-SCA-main/data/FreeRTOS100/experiment_value/attack_targets.npy', test_targets)"
   ]
  },
  {
   "cell_type": "code",
   "execution_count": 16,
   "metadata": {},
   "outputs": [],
   "source": [
    "key = []\n",
    "for i in range(DIM_TEST):\n",
    "    key.append(test_meta[i][1])\n",
    "    \n",
    "data_root = \"data/rabbit_1000/experiment_value/\"\n",
    "np.save(data_root+\"rabbit1000_key.npy\", key)"
   ]
  },
  {
   "cell_type": "code",
   "execution_count": 17,
   "metadata": {},
   "outputs": [
    {
     "data": {
      "text/plain": [
       "array([[154,   5, 150, ..., 116, 221, 232],\n",
       "       [ 34,  42, 144, ..., 249,   2, 127],\n",
       "       [  5, 154,  24, ...,  31, 232, 221],\n",
       "       ...,\n",
       "       [233, 135,  30, ...,  71,  89, 250],\n",
       "       [234, 244,  86, ...,  90, 110,  27],\n",
       "       [211, 194,  98, ...,  32,  91, 177]])"
      ]
     },
     "execution_count": 17,
     "metadata": {},
     "output_type": "execute_result"
    }
   ],
   "source": [
    "from metaqnn.attack.utils import generate_precomputed_values_file\n",
    "\n",
    "plaintexts = []\n",
    "#for i in range(test_meta.shape[0]):\n",
    "for i in range(DIM_TEST):\n",
    "    plaintexts.append(test_meta[i][0])\n",
    "\n",
    "generate_precomputed_values_file(plaintext=np.array(plaintexts), byte=0, save_folder=data_root)"
   ]
  },
  {
   "cell_type": "markdown",
   "metadata": {},
   "source": [
    "# Rabbit 100"
   ]
  },
  {
   "cell_type": "code",
   "execution_count": 4,
   "metadata": {},
   "outputs": [],
   "source": [
    "import numpy as np"
   ]
  },
  {
   "cell_type": "code",
   "execution_count": 5,
   "metadata": {},
   "outputs": [],
   "source": [
    "root = \"/work_extra/dgalli/dataset/rabbit/dataset_10/\"\n",
    "test_meta = np.load(root+\"test_meta.npy\", mmap_mode='r')\n",
    "test_targets = np.load(root+\"test_targets.npy\",mmap_mode='r')\n",
    "test_windows = np.load(root+\"test_windows.npy\",mmap_mode='r')\n",
    "\n",
    "train_meta = np.load(root+\"train_meta.npy\",mmap_mode='r')\n",
    "train_targets = np.load(root+\"train_targets.npy\",mmap_mode='r')\n",
    "train_windows = np.load(root+\"train_windows.npy\",mmap_mode='r')\n",
    "\n",
    "valid_meta = np.load(root+\"valid_meta.npy\",mmap_mode='r')\n",
    "valid_targets = np.load(root+\"valid_targets.npy\",mmap_mode='r')\n",
    "valid_windows = np.load(root+\"valid_windows.npy\",mmap_mode='r')"
   ]
  },
  {
   "cell_type": "code",
   "execution_count": 8,
   "metadata": {},
   "outputs": [
    {
     "name": "stdout",
     "output_type": "stream",
     "text": [
      "(25600, 2)\n",
      "(25600, 1)\n",
      "(25600, 13044)\n",
      "\n",
      "\n",
      "(204800, 2)\n",
      "(204800, 1)\n",
      "(204800, 13044)\n",
      "\n",
      "\n",
      "(25600, 2)\n",
      "(25600, 1)\n",
      "(25600, 13044)\n"
     ]
    }
   ],
   "source": [
    "print(test_meta.shape)\n",
    "print(test_targets.shape)\n",
    "print(test_windows.shape)\n",
    "print('\\n')\n",
    "print(train_meta.shape)\n",
    "print(train_targets.shape)\n",
    "print(train_windows.shape)\n",
    "print('\\n')\n",
    "print(valid_meta.shape)\n",
    "print(valid_targets.shape)\n",
    "print(valid_windows.shape)\n",
    "\n",
    "DIM_TEST = 25600"
   ]
  },
  {
   "cell_type": "code",
   "execution_count": 4,
   "metadata": {},
   "outputs": [
    {
     "name": "stdout",
     "output_type": "stream",
     "text": [
      "[ 55 119]\n",
      "[158 146]\n",
      "[229 120]\n",
      "float32\n"
     ]
    }
   ],
   "source": [
    "print(test_meta[0])  #(primo byte plaintext, primo byte key) -- key cambia ogni 102\n",
    "print(test_meta[100])\n",
    "print(test_meta[200])\n",
    "print(train_windows.dtype)"
   ]
  },
  {
   "cell_type": "code",
   "execution_count": null,
   "metadata": {},
   "outputs": [],
   "source": [
    "# Importing the library\n",
    "import psutil\n",
    " \n",
    "# Getting % usage of virtual_memory ( 3rd field)\n",
    "print('RAM memory % used:', psutil.virtual_memory()[2])\n",
    "\n",
    "profiling_traces = np.concatenate((train_windows, valid_windows))\n",
    "profiling_targets = np.concatenate((train_targets, valid_targets))\n",
    "\n",
    "print('RAM memory % used:', psutil.virtual_memory()[2])\n",
    "\n",
    "#np.save('/home/gchiari/Documents/Reinforcement-Learning-for-SCA-main/data/FreeRTOS100/experiment_value/profiling_traces.npy', profiling_traces)\n",
    "#np.save('/home/gchiari/Documents/Reinforcement-Learning-for-SCA-main/data/FreeRTOS100/experiment_value/profiling_targets.npy', profiling_targets)\n",
    "#\n",
    "#np.save('/home/gchiari/Documents/Reinforcement-Learning-for-SCA-main/data/FreeRTOS100/experiment_value/attack_traces.npy', test_windows)\n",
    "#np.save('/home/gchiari/Documents/Reinforcement-Learning-for-SCA-main/data/FreeRTOS100/experiment_value/attack_targets.npy', test_targets)"
   ]
  },
  {
   "cell_type": "code",
   "execution_count": 9,
   "metadata": {},
   "outputs": [],
   "source": [
    "key = []\n",
    "for i in range(DIM_TEST):\n",
    "    key.append(test_meta[i][1])\n",
    "    \n",
    "data_root = \"data/rabbit_10/experiment_value/\"\n",
    "np.save(data_root+\"rabbit10_key.npy\", key)"
   ]
  },
  {
   "cell_type": "code",
   "execution_count": 10,
   "metadata": {},
   "outputs": [
    {
     "data": {
      "text/plain": [
       "array([[154,   5, 150, ..., 116, 221, 232],\n",
       "       [ 34,  42, 144, ..., 249,   2, 127],\n",
       "       [  5, 154,  24, ...,  31, 232, 221],\n",
       "       ...,\n",
       "       [233, 135,  30, ...,  71,  89, 250],\n",
       "       [234, 244,  86, ...,  90, 110,  27],\n",
       "       [211, 194,  98, ...,  32,  91, 177]])"
      ]
     },
     "execution_count": 10,
     "metadata": {},
     "output_type": "execute_result"
    }
   ],
   "source": [
    "from metaqnn.attack.utils import generate_precomputed_values_file\n",
    "\n",
    "plaintexts = []\n",
    "#for i in range(test_meta.shape[0]):\n",
    "for i in range(DIM_TEST):\n",
    "    plaintexts.append(test_meta[i][0])\n",
    "\n",
    "generate_precomputed_values_file(plaintext=np.array(plaintexts), byte=0, save_folder=data_root)"
   ]
  }
 ],
 "metadata": {
  "kernelspec": {
   "display_name": "py_env",
   "language": "python",
   "name": "python3"
  },
  "language_info": {
   "codemirror_mode": {
    "name": "ipython",
    "version": 3
   },
   "file_extension": ".py",
   "mimetype": "text/x-python",
   "name": "python",
   "nbconvert_exporter": "python",
   "pygments_lexer": "ipython3",
   "version": "3.9.5"
  }
 },
 "nbformat": 4,
 "nbformat_minor": 2
}
